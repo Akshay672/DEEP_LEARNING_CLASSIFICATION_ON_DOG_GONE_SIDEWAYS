{
 "cells": [
  {
   "cell_type": "markdown",
   "id": "38eeed22",
   "metadata": {},
   "source": [
    "# Dogs Gone Sideways"
   ]
  },
  {
   "cell_type": "markdown",
   "id": "19e74221",
   "metadata": {},
   "source": [
    "### Content\n",
    "This dataset contains a small subset of images from the Kaggle Dogs vs Cats competition.\n",
    "\n",
    "Approximately half of the images have been rotated 90 degrees (clockwise). This is used as an exercise to build a deep learning model that can tell whether an image is upright or sideways, and that exercise is part of the Deep Learning Education program.\n",
    "\n",
    "The data is divided into a directory of training data and a directory of validation data. Each of those directories is subdivided into a directory of sideways (rotated) images and a directory of upright (unrotated) images.\n",
    "\n",
    "Images are selected based on having an aspect ratio between 0.85 and 1.2, as well as a height of at least 200 pixels."
   ]
  },
  {
   "cell_type": "code",
   "execution_count": 1,
   "id": "a773b5eb",
   "metadata": {},
   "outputs": [],
   "source": [
    "#kaggle link:https://www.kaggle.com/dansbecker/dogs-gone-sideways"
   ]
  },
  {
   "cell_type": "code",
   "execution_count": 2,
   "id": "2941bd7a",
   "metadata": {},
   "outputs": [],
   "source": [
    "#importing Libraires"
   ]
  },
  {
   "cell_type": "code",
   "execution_count": 3,
   "id": "9a019075",
   "metadata": {},
   "outputs": [],
   "source": [
    "import pandas as pd\n",
    "import numpy as np\n",
    "import matplotlib.pyplot as plt\n",
    "import seaborn as sns\n",
    "import warnings\n",
    "warnings.filterwarnings('ignore')\n",
    "import random\n",
    "import math\n",
    "import tensorflow as tf\n",
    "#Rest of the libraires will be imported, wherever necessary"
   ]
  },
  {
   "cell_type": "code",
   "execution_count": 4,
   "id": "3ba2fd55",
   "metadata": {},
   "outputs": [],
   "source": [
    "#ImageDataGenerator (Real time Data Augementation)"
   ]
  },
  {
   "cell_type": "code",
   "execution_count": 5,
   "id": "2ebafd1c",
   "metadata": {},
   "outputs": [],
   "source": [
    "from keras.preprocessing.image import ImageDataGenerator"
   ]
  },
  {
   "cell_type": "code",
   "execution_count": 6,
   "id": "8c3a8504",
   "metadata": {},
   "outputs": [],
   "source": [
    "Datagen=ImageDataGenerator(shear_range=0.2,\n",
    "    zoom_range=0.2,\n",
    "    horizontal_flip=False,#as the dataset is about Sideways we have kept it false\n",
    "    vertical_flip=False,#as the dataset is about Sideways we have kept it false\n",
    "    rescale=1.0/255,\n",
    "    rotation_range=0,#as the dataset is about Sideways we have kept it 0\n",
    "    validation_split=0.85)"
   ]
  },
  {
   "cell_type": "code",
   "execution_count": 7,
   "id": "4abb4ee6",
   "metadata": {},
   "outputs": [
    {
     "name": "stdout",
     "output_type": "stream",
     "text": [
      "Found 220 images belonging to 2 classes.\n"
     ]
    }
   ],
   "source": [
    "train_set=Datagen.flow_from_directory(directory='D:\\\\M. Tech in Data Science & Machine Learning\\\\Deep Learning\\\\Sem Preparation\\\\Dogs Gone Sideways\\\\train\\\\',\n",
    "    target_size=(50, 50),\n",
    "    color_mode='rgb',\n",
    "    batch_size=30,\n",
    "    seed=2)"
   ]
  },
  {
   "cell_type": "code",
   "execution_count": 8,
   "id": "524c50ba",
   "metadata": {},
   "outputs": [
    {
     "name": "stdout",
     "output_type": "stream",
     "text": [
      "Found 183 images belonging to 2 classes.\n"
     ]
    }
   ],
   "source": [
    "valid_set=Datagen.flow_from_directory(directory='D:\\\\M. Tech in Data Science & Machine Learning\\\\Deep Learning\\\\Sem Preparation\\\\Dogs Gone Sideways\\\\val\\\\',\n",
    "    target_size=(50, 50),\n",
    "    color_mode='rgb',\n",
    "    batch_size=30,\n",
    "    seed=2,\n",
    "    subset='validation')"
   ]
  },
  {
   "cell_type": "code",
   "execution_count": 9,
   "id": "7389a3d6",
   "metadata": {},
   "outputs": [],
   "source": [
    "#Created an extra set "
   ]
  },
  {
   "cell_type": "code",
   "execution_count": 10,
   "id": "f753df75",
   "metadata": {},
   "outputs": [
    {
     "name": "stdout",
     "output_type": "stream",
     "text": [
      "Found 34 images belonging to 2 classes.\n"
     ]
    }
   ],
   "source": [
    "test_set=Datagen.flow_from_directory(directory='D:\\\\M. Tech in Data Science & Machine Learning\\\\Deep Learning\\\\Sem Preparation\\\\Dogs Gone Sideways\\\\val\\\\',\n",
    "    target_size=(50, 50),\n",
    "    color_mode='rgb',\n",
    "    batch_size=30,\n",
    "    seed=2,\n",
    "    subset='training')"
   ]
  },
  {
   "cell_type": "code",
   "execution_count": 11,
   "id": "fc8e9d23",
   "metadata": {},
   "outputs": [],
   "source": [
    "#Modelling"
   ]
  },
  {
   "cell_type": "code",
   "execution_count": 12,
   "id": "553ce8d7",
   "metadata": {},
   "outputs": [],
   "source": [
    "from keras.models import Sequential,Model,load_model\n",
    "from keras.layers import Dense, Dropout, BatchNormalization, Conv2D, MaxPooling2D,Flatten ,Input,GlobalAveragePooling2D"
   ]
  },
  {
   "cell_type": "code",
   "execution_count": 13,
   "id": "0a0b0b1d",
   "metadata": {},
   "outputs": [],
   "source": [
    "model=Sequential()\n",
    "model.add(Conv2D(filters=30,kernel_size=(2,2),activation='relu',input_shape=(50,50,3)))\n",
    "model.add(MaxPooling2D(pool_size=(2, 2)))\n",
    "#model.add(Conv2D(filters=15,kernel_size=(1,1),activation='relu'))\n",
    "#model.add(MaxPooling2D(pool_size=(1, 1)))\n",
    "model.add(Dropout(0.2))\n",
    "model.add(Flatten())\n",
    "model.add(Dense(8,activation='relu'))\n",
    "model.add(Dense(6,activation='relu'))\n",
    "model.add(Dense(2,activation='sigmoid'))"
   ]
  },
  {
   "cell_type": "code",
   "execution_count": 14,
   "id": "655524af",
   "metadata": {},
   "outputs": [],
   "source": [
    "model.compile(optimizer='adam',loss='binary_crossentropy',metrics=['accuracy'])"
   ]
  },
  {
   "cell_type": "code",
   "execution_count": 15,
   "id": "c5703b6a",
   "metadata": {},
   "outputs": [
    {
     "name": "stdout",
     "output_type": "stream",
     "text": [
      "Epoch 1/30\n",
      "8/8 [==============================] - 65s 939ms/step - loss: 0.6951 - accuracy: 0.5795 - val_loss: 0.6864 - val_accuracy: 0.5082\n",
      "Epoch 2/30\n",
      "8/8 [==============================] - 4s 561ms/step - loss: 0.6911 - accuracy: 0.5102 - val_loss: 0.6851 - val_accuracy: 0.5574\n",
      "Epoch 3/30\n",
      "8/8 [==============================] - 4s 576ms/step - loss: 0.6768 - accuracy: 0.6006 - val_loss: 0.6806 - val_accuracy: 0.5519\n",
      "Epoch 4/30\n",
      "8/8 [==============================] - 4s 552ms/step - loss: 0.6777 - accuracy: 0.5519 - val_loss: 0.6740 - val_accuracy: 0.5246\n",
      "Epoch 5/30\n",
      "8/8 [==============================] - 4s 547ms/step - loss: 0.6675 - accuracy: 0.5772 - val_loss: 0.6691 - val_accuracy: 0.6667\n",
      "Epoch 6/30\n",
      "8/8 [==============================] - 4s 536ms/step - loss: 0.6508 - accuracy: 0.7038 - val_loss: 0.6623 - val_accuracy: 0.5628\n",
      "Epoch 7/30\n",
      "8/8 [==============================] - 4s 536ms/step - loss: 0.6461 - accuracy: 0.6212 - val_loss: 0.6565 - val_accuracy: 0.5738\n",
      "Epoch 8/30\n",
      "8/8 [==============================] - 4s 530ms/step - loss: 0.6224 - accuracy: 0.7556 - val_loss: 0.6478 - val_accuracy: 0.6230\n",
      "Epoch 9/30\n",
      "8/8 [==============================] - 4s 580ms/step - loss: 0.6315 - accuracy: 0.6837 - val_loss: 0.6383 - val_accuracy: 0.5410\n",
      "Epoch 10/30\n",
      "8/8 [==============================] - 5s 657ms/step - loss: 0.6385 - accuracy: 0.5958 - val_loss: 0.6378 - val_accuracy: 0.6721\n",
      "Epoch 11/30\n",
      "8/8 [==============================] - 4s 537ms/step - loss: 0.6197 - accuracy: 0.7776 - val_loss: 0.6377 - val_accuracy: 0.5628\n",
      "Epoch 12/30\n",
      "8/8 [==============================] - 4s 544ms/step - loss: 0.6058 - accuracy: 0.6082 - val_loss: 0.6174 - val_accuracy: 0.6448\n",
      "Epoch 13/30\n",
      "8/8 [==============================] - 4s 532ms/step - loss: 0.5918 - accuracy: 0.7427 - val_loss: 0.6245 - val_accuracy: 0.6612\n",
      "Epoch 14/30\n",
      "8/8 [==============================] - 5s 601ms/step - loss: 0.5665 - accuracy: 0.7421 - val_loss: 0.6083 - val_accuracy: 0.6393\n",
      "Epoch 15/30\n",
      "8/8 [==============================] - 5s 626ms/step - loss: 0.5960 - accuracy: 0.6477 - val_loss: 0.5867 - val_accuracy: 0.7158\n",
      "Epoch 16/30\n",
      "8/8 [==============================] - 5s 587ms/step - loss: 0.5270 - accuracy: 0.8052 - val_loss: 0.5924 - val_accuracy: 0.5902\n",
      "Epoch 17/30\n",
      "8/8 [==============================] - 4s 550ms/step - loss: 0.5689 - accuracy: 0.6900 - val_loss: 0.5776 - val_accuracy: 0.6393\n",
      "Epoch 18/30\n",
      "8/8 [==============================] - 4s 583ms/step - loss: 0.5519 - accuracy: 0.7033 - val_loss: 0.5644 - val_accuracy: 0.7213\n",
      "Epoch 19/30\n",
      "8/8 [==============================] - 5s 668ms/step - loss: 0.5184 - accuracy: 0.8020 - val_loss: 0.5568 - val_accuracy: 0.7432\n",
      "Epoch 20/30\n",
      "8/8 [==============================] - 5s 638ms/step - loss: 0.5066 - accuracy: 0.8423 - val_loss: 0.5504 - val_accuracy: 0.6503\n",
      "Epoch 21/30\n",
      "8/8 [==============================] - 4s 550ms/step - loss: 0.4762 - accuracy: 0.8130 - val_loss: 0.5415 - val_accuracy: 0.7596\n",
      "Epoch 22/30\n",
      "8/8 [==============================] - 4s 569ms/step - loss: 0.4913 - accuracy: 0.8199 - val_loss: 0.5774 - val_accuracy: 0.7705\n",
      "Epoch 23/30\n",
      "8/8 [==============================] - 4s 559ms/step - loss: 0.4997 - accuracy: 0.8253 - val_loss: 0.5496 - val_accuracy: 0.7049\n",
      "Epoch 24/30\n",
      "8/8 [==============================] - 4s 529ms/step - loss: 0.4813 - accuracy: 0.8662 - val_loss: 0.5235 - val_accuracy: 0.7923\n",
      "Epoch 25/30\n",
      "8/8 [==============================] - 4s 542ms/step - loss: 0.4352 - accuracy: 0.8665 - val_loss: 0.5037 - val_accuracy: 0.7432\n",
      "Epoch 26/30\n",
      "8/8 [==============================] - 4s 520ms/step - loss: 0.4473 - accuracy: 0.8542 - val_loss: 0.5068 - val_accuracy: 0.7869\n",
      "Epoch 27/30\n",
      "8/8 [==============================] - 4s 518ms/step - loss: 0.4129 - accuracy: 0.9027 - val_loss: 0.5111 - val_accuracy: 0.7432\n",
      "Epoch 28/30\n",
      "8/8 [==============================] - 4s 519ms/step - loss: 0.3812 - accuracy: 0.9279 - val_loss: 0.5441 - val_accuracy: 0.7158\n",
      "Epoch 29/30\n",
      "8/8 [==============================] - 4s 531ms/step - loss: 0.4138 - accuracy: 0.9226 - val_loss: 0.5747 - val_accuracy: 0.7377\n",
      "Epoch 30/30\n",
      "8/8 [==============================] - 4s 526ms/step - loss: 0.4230 - accuracy: 0.8961 - val_loss: 0.5099 - val_accuracy: 0.7158\n"
     ]
    }
   ],
   "source": [
    "M=model.fit(train_set,validation_data=valid_set,batch_size=10,epochs=30,verbose=1)"
   ]
  },
  {
   "cell_type": "code",
   "execution_count": 16,
   "id": "70d78640",
   "metadata": {},
   "outputs": [
    {
     "name": "stdout",
     "output_type": "stream",
     "text": [
      "2/2 [==============================] - 0s 38ms/step - loss: 0.4341 - accuracy: 0.9118\n"
     ]
    },
    {
     "data": {
      "text/plain": [
       "[0.4340518116950989, 0.9117646813392639]"
      ]
     },
     "execution_count": 16,
     "metadata": {},
     "output_type": "execute_result"
    }
   ],
   "source": [
    "model.evaluate(test_set)"
   ]
  },
  {
   "cell_type": "code",
   "execution_count": 17,
   "id": "625c3f97",
   "metadata": {},
   "outputs": [],
   "source": [
    "def plot_performance1(model):\n",
    "    plt.figure(figsize=(10,5))\n",
    "    plt.plot(model.history['accuracy'],'b',label='Train Accuracy')\n",
    "    plt.plot(model.history['val_accuracy'],'y',label='Validation Accuracy')\n",
    "    plt.legend()\n",
    "    plt.title('Train and Validation accuracy vs Epochs')\n",
    "    plt.show()"
   ]
  },
  {
   "cell_type": "code",
   "execution_count": 18,
   "id": "ae66ad91",
   "metadata": {},
   "outputs": [
    {
     "data": {
      "image/png": "[encoded data removed]",
      "text/plain": [
       "<Figure size 720x360 with 1 Axes>"
      ]
     },
     "metadata": {
      "needs_background": "light"
     },
     "output_type": "display_data"
    }
   ],
   "source": [
    "plot_performance1(M)"
   ]
  },
  {
   "cell_type": "code",
   "execution_count": 19,
   "id": "731c6f49",
   "metadata": {},
   "outputs": [],
   "source": [
    "def plot_performance2(model):\n",
    "    plt.figure(figsize=(10,5))\n",
    "    plt.plot(model.history['loss'],'b--',label='Train loss')\n",
    "    plt.plot(model.history['val_loss'],'y--',label='Validation loss')\n",
    "    plt.legend()\n",
    "    plt.title('Train and Validation loss vs Epochs')\n",
    "    plt.show()"
   ]
  },
  {
   "cell_type": "code",
   "execution_count": 20,
   "id": "48ab6967",
   "metadata": {},
   "outputs": [
    {
     "data": {
      "image/png": "[encoded data removed]",
      "text/plain": [
       "<Figure size 720x360 with 1 Axes>"
      ]
     },
     "metadata": {
      "needs_background": "light"
     },
     "output_type": "display_data"
    }
   ],
   "source": [
    "plot_performance2(M)"
   ]
  },
  {
   "cell_type": "code",
   "execution_count": 21,
   "id": "5b345efd",
   "metadata": {},
   "outputs": [],
   "source": [
    "#Saving the weights of the model"
   ]
  },
  {
   "cell_type": "code",
   "execution_count": 22,
   "id": "d46cfbc9",
   "metadata": {},
   "outputs": [],
   "source": [
    "model.save('Dog_Gone_sideways_model.hdf5')#saving the weights of the model"
   ]
  },
  {
   "cell_type": "code",
   "execution_count": 23,
   "id": "658dbfec",
   "metadata": {},
   "outputs": [],
   "source": [
    "#loading the saved model to predict"
   ]
  },
  {
   "cell_type": "code",
   "execution_count": 24,
   "id": "d8415447",
   "metadata": {},
   "outputs": [],
   "source": [
    "from keras.models import load_model"
   ]
  },
  {
   "cell_type": "code",
   "execution_count": 25,
   "id": "ab727407",
   "metadata": {},
   "outputs": [],
   "source": [
    "model_load=load_model('Dog_Gone_sideways_model.hdf5')"
   ]
  },
  {
   "cell_type": "code",
   "execution_count": 26,
   "id": "112d0dab",
   "metadata": {},
   "outputs": [
    {
     "name": "stdout",
     "output_type": "stream",
     "text": [
      "2/2 [==============================] - 1s 39ms/step - loss: 0.5101 - accuracy: 0.8235\n"
     ]
    },
    {
     "data": {
      "text/plain": [
       "[0.5101183652877808, 0.8235294222831726]"
      ]
     },
     "execution_count": 26,
     "metadata": {},
     "output_type": "execute_result"
    }
   ],
   "source": [
    "model_load.evaluate(test_set)"
   ]
  },
  {
   "cell_type": "code",
   "execution_count": 27,
   "id": "e6477c80",
   "metadata": {},
   "outputs": [],
   "source": [
    "#Predicting on test image"
   ]
  },
  {
   "cell_type": "code",
   "execution_count": 28,
   "id": "33fa7e1c",
   "metadata": {},
   "outputs": [],
   "source": [
    "from PIL import Image\n",
    "from skimage import transform"
   ]
  },
  {
   "cell_type": "code",
   "execution_count": 29,
   "id": "af449eae",
   "metadata": {},
   "outputs": [],
   "source": [
    "#Lets select a image from the sideways class and check the prediction"
   ]
  },
  {
   "cell_type": "code",
   "execution_count": 30,
   "id": "60e36e4a",
   "metadata": {},
   "outputs": [],
   "source": [
    "image_path='D:\\\\M. Tech in Data Science & Machine Learning\\\\Deep Learning\\\\Sem Preparation\\\\Dogs Gone Sideways\\\\val\\\\sideways\\\\dog.906.jpg'\n",
    "image_test=Image.open(image_path)\n",
    "np_image=np.array(image_test).astype('float32')/255\n",
    "np_image=transform.resize(np_image,(50,50,3))\n",
    "np_image=np.expand_dims(np_image,axis =0)"
   ]
  },
  {
   "cell_type": "code",
   "execution_count": 31,
   "id": "7920acb9",
   "metadata": {},
   "outputs": [],
   "source": [
    "from tensorflow.keras.preprocessing import image_dataset_from_directory"
   ]
  },
  {
   "cell_type": "code",
   "execution_count": 32,
   "id": "8c9d7b43",
   "metadata": {},
   "outputs": [
    {
     "name": "stdout",
     "output_type": "stream",
     "text": [
      "Found 217 files belonging to 2 classes.\n"
     ]
    }
   ],
   "source": [
    "valid_dataset=image_dataset_from_directory(directory='D:\\\\M. Tech in Data Science & Machine Learning\\\\Deep Learning\\\\Sem Preparation\\\\Dogs Gone Sideways\\\\val\\\\')"
   ]
  },
  {
   "cell_type": "code",
   "execution_count": 33,
   "id": "15740d7a",
   "metadata": {},
   "outputs": [
    {
     "data": {
      "text/plain": [
       "['sideways', 'upright']"
      ]
     },
     "execution_count": 33,
     "metadata": {},
     "output_type": "execute_result"
    }
   ],
   "source": [
    "class_name=valid_dataset.class_names\n",
    "class_name"
   ]
  },
  {
   "cell_type": "code",
   "execution_count": 34,
   "id": "ae3d965c",
   "metadata": {},
   "outputs": [
    {
     "name": "stdout",
     "output_type": "stream",
     "text": [
      "The label for this class is  sideways\n"
     ]
    }
   ],
   "source": [
    "label=model_load.predict(np_image)\n",
    "print('The label for this class is ',class_name[label.argmax()])"
   ]
  },
  {
   "cell_type": "code",
   "execution_count": 35,
   "id": "6792fcf6",
   "metadata": {},
   "outputs": [
    {
     "data": {
      "image/jpeg": "[encoded data removed]",
      "text/plain": [
       "<IPython.core.display.Image object>"
      ]
     },
     "execution_count": 35,
     "metadata": {},
     "output_type": "execute_result"
    }
   ],
   "source": [
    "from IPython.display import Image\n",
    "Image(image_path)"
   ]
  },
  {
   "cell_type": "code",
   "execution_count": 36,
   "id": "a80d8d51",
   "metadata": {},
   "outputs": [],
   "source": [
    "#we can see we have predicted the correct class"
   ]
  },
  {
   "cell_type": "code",
   "execution_count": 37,
   "id": "3b1e2864",
   "metadata": {},
   "outputs": [],
   "source": [
    "#------------------------------------------------------------------------------------------------------------------------#"
   ]
  }
 ],
 "metadata": {
  "kernelspec": {
   "display_name": "Python 3",
   "language": "python",
   "name": "python3"
  },
  "language_info": {
   "codemirror_mode": {
    "name": "ipython",
    "version": 3
   },
   "file_extension": ".py",
   "mimetype": "text/x-python",
   "name": "python",
   "nbconvert_exporter": "python",
   "pygments_lexer": "ipython3",
   "version": "3.6.13"
  }
 },
 "nbformat": 4,
 "nbformat_minor": 5
}
